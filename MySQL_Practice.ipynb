{
 "cells": [
  {
   "cell_type": "markdown",
   "id": "8d16b3cf",
   "metadata": {},
   "source": [
    "## Create an environment \n",
    "\n",
    "## Activate the  environment\n",
    "\n",
    "## We need to install a library so that we cn connect the python with the MySQL database\n",
    "\n",
    "## pip install mysql-connector-python\n",
    "\n",
    "##  then open the jupyter notebook "
   ]
  },
  {
   "cell_type": "markdown",
   "id": "cf1fd31b",
   "metadata": {},
   "source": [
    "### Creating databases in MySQL\n",
    "\n"
   ]
  },
  {
   "cell_type": "code",
   "execution_count": 12,
   "id": "4e6c4db3",
   "metadata": {},
   "outputs": [
    {
     "name": "stdout",
     "output_type": "stream",
     "text": [
      "<mysql.connector.connection_cext.CMySQLConnection object at 0x000001EA837CBFD0>\n"
     ]
    }
   ],
   "source": [
    "## create a MySQL connection\n",
    "\n",
    "import mysql.connector as sql\n",
    "\n",
    "connection = sql.connect(host = \"localhost\",\n",
    "                         user = \"root\",\n",
    "                         password = \"root\")\n",
    "\n",
    "print(connection)\n",
    "\n"
   ]
  },
  {
   "cell_type": "markdown",
   "id": "727798ac",
   "metadata": {},
   "source": [
    "#### so you have successfully established the connection "
   ]
  },
  {
   "cell_type": "markdown",
   "id": "ba8021a3",
   "metadata": {},
   "source": [
    "### 1. Creating databases"
   ]
  },
  {
   "cell_type": "code",
   "execution_count": 13,
   "id": "129d3bfb",
   "metadata": {},
   "outputs": [],
   "source": [
    "## creating cursor for execution\n",
    "\n",
    "cursor = connection.cursor()"
   ]
  },
  {
   "cell_type": "code",
   "execution_count": 14,
   "id": "6a0a7597",
   "metadata": {},
   "outputs": [],
   "source": [
    "## query for creating a database\n",
    "\n",
    "cursor.execute(\"create database rohandas2\")"
   ]
  },
  {
   "cell_type": "code",
   "execution_count": 15,
   "id": "7911c9bf",
   "metadata": {},
   "outputs": [],
   "source": [
    "## query to see the databases present\n",
    "\n",
    "cursor.execute(\"show databases\")"
   ]
  },
  {
   "cell_type": "code",
   "execution_count": 16,
   "id": "f06f8710",
   "metadata": {},
   "outputs": [
    {
     "name": "stdout",
     "output_type": "stream",
     "text": [
      "('information_schema',)\n",
      "('mysql',)\n",
      "('performance_schema',)\n",
      "('rohan1',)\n",
      "('rohandas1',)\n",
      "('rohandas2',)\n",
      "('sakila',)\n",
      "('student',)\n",
      "('student1',)\n",
      "('student2',)\n",
      "('student3',)\n",
      "('sudhanshu12345',)\n",
      "('sudhanshu123456',)\n",
      "('supriya1',)\n",
      "('supriya2',)\n",
      "('supriya3',)\n",
      "('sys',)\n",
      "('world',)\n"
     ]
    }
   ],
   "source": [
    "## the thing is it will not show the database names as a list\n",
    "## so we need to iterate\n",
    "\n",
    "for database in cursor:\n",
    "    print(database)"
   ]
  },
  {
   "cell_type": "markdown",
   "id": "81dc781f",
   "metadata": {},
   "source": [
    "### 2. Deleting databases"
   ]
  },
  {
   "cell_type": "code",
   "execution_count": 17,
   "id": "8818eb0e",
   "metadata": {},
   "outputs": [
    {
     "name": "stdout",
     "output_type": "stream",
     "text": [
      "Successfully deleted the database\n"
     ]
    }
   ],
   "source": [
    "## deleting some databases from \n",
    "\n",
    "try:\n",
    "    cursor.execute(\"drop database rohandas1\")\n",
    "    print(\"Successfully deleted the database\")\n",
    "except Exception as e:\n",
    "    print(e)"
   ]
  },
  {
   "cell_type": "code",
   "execution_count": 18,
   "id": "07375f43",
   "metadata": {},
   "outputs": [
    {
     "name": "stdout",
     "output_type": "stream",
     "text": [
      "('information_schema',)\n",
      "('mysql',)\n",
      "('performance_schema',)\n",
      "('rohan1',)\n",
      "('rohandas2',)\n",
      "('sakila',)\n",
      "('student',)\n",
      "('student1',)\n",
      "('student2',)\n",
      "('student3',)\n",
      "('sudhanshu12345',)\n",
      "('sudhanshu123456',)\n",
      "('supriya1',)\n",
      "('supriya2',)\n",
      "('supriya3',)\n",
      "('sys',)\n",
      "('world',)\n"
     ]
    }
   ],
   "source": [
    "## Again to see the databases present\n",
    "\n",
    "cursor.execute(\"show databases\")\n",
    "for databases in cursor:\n",
    "    print(databases)"
   ]
  },
  {
   "cell_type": "code",
   "execution_count": 19,
   "id": "c213d05c",
   "metadata": {},
   "outputs": [
    {
     "name": "stdout",
     "output_type": "stream",
     "text": [
      "Successfully deleted the databases\n"
     ]
    }
   ],
   "source": [
    "## similarly we can delete multiple databses\n",
    "\n",
    "try:\n",
    "    cursor.execute(\"drop database sakila\")\n",
    "    cursor.execute(\"drop database student1\")\n",
    "    cursor.execute(\"drop database student2\")\n",
    "    cursor.execute(\"drop database student3\")\n",
    "    cursor.execute(\"drop database sudhanshu12345\")\n",
    "    cursor.execute(\"drop database sudhanshu123456\")\n",
    "    cursor.execute(\"drop database supriya1\")\n",
    "    cursor.execute(\"drop database supriya2\")\n",
    "    cursor.execute(\"drop database supriya3\")\n",
    "    print(\"Successfully deleted the databases\")\n",
    "except Exception as e:\n",
    "    print(e)"
   ]
  },
  {
   "cell_type": "code",
   "execution_count": 20,
   "id": "5a72bda5",
   "metadata": {},
   "outputs": [
    {
     "name": "stdout",
     "output_type": "stream",
     "text": [
      "('information_schema',)\n",
      "('mysql',)\n",
      "('performance_schema',)\n",
      "('rohan1',)\n",
      "('rohandas2',)\n",
      "('student',)\n",
      "('sys',)\n",
      "('world',)\n"
     ]
    }
   ],
   "source": [
    "## Again to see the databases present\n",
    "\n",
    "cursor.execute(\"show databases\")\n",
    "for databases in cursor:\n",
    "    print(databases)"
   ]
  },
  {
   "cell_type": "markdown",
   "id": "c90a60b6",
   "metadata": {},
   "source": [
    "### 3. Creating tables and inserting records"
   ]
  },
  {
   "cell_type": "markdown",
   "id": "e06cf450",
   "metadata": {},
   "source": [
    "#### In MySQL to use any database we need to write a command in MySQL Workbench\n",
    "                \"use database_name\"\n",
    "\n",
    "#### to see if any tables present in the database \n",
    "                    \"show tables\""
   ]
  },
  {
   "cell_type": "code",
   "execution_count": 34,
   "id": "cc7e1e87",
   "metadata": {},
   "outputs": [
    {
     "name": "stdout",
     "output_type": "stream",
     "text": [
      "<mysql.connector.connection_cext.CMySQLConnection object at 0x000001EA83E35B20>\n"
     ]
    }
   ],
   "source": [
    "## suppose you want to connect to any database then you need to setup a connection\n",
    "\n",
    "import mysql.connector as con\n",
    "\n",
    "connection = con.connect(host=\"localhost\",\n",
    "                         user=\"root\",\n",
    "                         password = \"root\",\n",
    "                         database = \"student\")\n",
    "\n",
    "print(connection)"
   ]
  },
  {
   "cell_type": "code",
   "execution_count": 35,
   "id": "edc18a39",
   "metadata": {},
   "outputs": [],
   "source": [
    "coursor = connection.cursor()"
   ]
  },
  {
   "cell_type": "code",
   "execution_count": 36,
   "id": "5e389433",
   "metadata": {},
   "outputs": [
    {
     "name": "stdout",
     "output_type": "stream",
     "text": [
      "('studentinfo1',)\n"
     ]
    }
   ],
   "source": [
    "coursor.execute(\"show tables\")\n",
    "\n",
    "for tables in coursor:\n",
    "    print(tables)\n",
    "    \n",
    "## no output if there are no table"
   ]
  },
  {
   "cell_type": "code",
   "execution_count": 37,
   "id": "4e632f15",
   "metadata": {},
   "outputs": [],
   "source": [
    "## creating a table\n",
    "\n",
    "coursor.execute(\"create table studentinfo2(id INT AUTO_INCREMENT PRIMARY KEY, name VARCHAR(255), subject VARCHAR(255))\")"
   ]
  },
  {
   "cell_type": "code",
   "execution_count": 38,
   "id": "ea51eda8",
   "metadata": {},
   "outputs": [
    {
     "name": "stdout",
     "output_type": "stream",
     "text": [
      "('studentinfo1',)\n",
      "('studentinfo2',)\n"
     ]
    }
   ],
   "source": [
    "## to see what created\n",
    "\n",
    "coursor.execute(\"show tables\")\n",
    "\n",
    "for tables in coursor:\n",
    "    print(tables)"
   ]
  },
  {
   "cell_type": "code",
   "execution_count": 39,
   "id": "db6d1ea8",
   "metadata": {},
   "outputs": [
    {
     "name": "stdout",
     "output_type": "stream",
     "text": [
      "row inserted  1\n"
     ]
    }
   ],
   "source": [
    "## inserting values in the table\n",
    "\n",
    "query = \"insert into studentinfo2 (name , subject) values(%s, %s) \"\n",
    "value = ('rohan','DataScience')\n",
    "## here we are not giving the id value as it will start from 1 and auto increment\n",
    "\n",
    "coursor.execute(query,value)\n",
    "print(\"row inserted \", coursor.lastrowid)"
   ]
  },
  {
   "cell_type": "code",
   "execution_count": 47,
   "id": "fb0eb3cb",
   "metadata": {},
   "outputs": [],
   "source": [
    "## to see what has inserted\n",
    "coursor.execute(\"select * from studentinfo2\")"
   ]
  },
  {
   "cell_type": "code",
   "execution_count": 48,
   "id": "95ef326c",
   "metadata": {},
   "outputs": [
    {
     "data": {
      "text/plain": [
       "[(1, 'rohan', 'DataScience')]"
      ]
     },
     "execution_count": 48,
     "metadata": {},
     "output_type": "execute_result"
    }
   ],
   "source": [
    "lst = coursor.fetchall()\n",
    "lst"
   ]
  },
  {
   "cell_type": "code",
   "execution_count": 49,
   "id": "d7785108",
   "metadata": {},
   "outputs": [
    {
     "name": "stdout",
     "output_type": "stream",
     "text": [
      "(1, 'rohan', 'DataScience')\n"
     ]
    }
   ],
   "source": [
    "### same \n",
    "\n",
    "for rec in lst:\n",
    "    print(rec)"
   ]
  },
  {
   "cell_type": "code",
   "execution_count": 50,
   "id": "aaee8eaf",
   "metadata": {},
   "outputs": [
    {
     "name": "stdout",
     "output_type": "stream",
     "text": [
      "row inserted successfully  2\n"
     ]
    }
   ],
   "source": [
    "## similarly we can add multiple records \n",
    "\n",
    "query = \"insert into studentinfo2 (name , subject) values(%s, %s) \"\n",
    "value = [('rohan','DataScience'),\n",
    "         ('uttam','EVS'),\n",
    "         ('suchitra','History'),\n",
    "         ('anup','Physics')]\n",
    "\n",
    "## here we have to use executemany as we are inserting miltiple values\n",
    "\n",
    "try:\n",
    "    coursor.executemany(query,value)\n",
    "    print(\"row inserted successfully \", coursor.lastrowid)\n",
    "except Exception as e:\n",
    "    print(e)"
   ]
  },
  {
   "cell_type": "code",
   "execution_count": 51,
   "id": "dbf5a660",
   "metadata": {},
   "outputs": [
    {
     "data": {
      "text/plain": [
       "[(1, 'rohan', 'DataScience'),\n",
       " (2, 'rohan', 'DataScience'),\n",
       " (3, 'uttam', 'EVS'),\n",
       " (4, 'suchitra', 'History'),\n",
       " (5, 'anup', 'Physics')]"
      ]
     },
     "execution_count": 51,
     "metadata": {},
     "output_type": "execute_result"
    }
   ],
   "source": [
    "coursor.execute(\"select * from studentinfo2\")\n",
    "coursor.fetchall()"
   ]
  },
  {
   "cell_type": "markdown",
   "id": "961cb94a",
   "metadata": {},
   "source": [
    "#### Selecting by condition "
   ]
  },
  {
   "cell_type": "code",
   "execution_count": 52,
   "id": "bb9424a8",
   "metadata": {},
   "outputs": [
    {
     "data": {
      "text/plain": [
       "[(3, 'uttam', 'EVS')]"
      ]
     },
     "execution_count": 52,
     "metadata": {},
     "output_type": "execute_result"
    }
   ],
   "source": [
    "coursor.execute(\"select * from studentinfo2 where subject='EVS'\")\n",
    "coursor.fetchall()"
   ]
  },
  {
   "cell_type": "code",
   "execution_count": 53,
   "id": "265877da",
   "metadata": {},
   "outputs": [
    {
     "data": {
      "text/plain": [
       "[('anup',)]"
      ]
     },
     "execution_count": 53,
     "metadata": {},
     "output_type": "execute_result"
    }
   ],
   "source": [
    "coursor.execute(\"select name from studentinfo2 where subject='Physics'\")\n",
    "coursor.fetchall()"
   ]
  },
  {
   "cell_type": "code",
   "execution_count": 54,
   "id": "e239b743",
   "metadata": {},
   "outputs": [
    {
     "data": {
      "text/plain": [
       "[('rohan', 'DataScience'),\n",
       " ('rohan', 'DataScience'),\n",
       " ('uttam', 'EVS'),\n",
       " ('suchitra', 'History'),\n",
       " ('anup', 'Physics')]"
      ]
     },
     "execution_count": 54,
     "metadata": {},
     "output_type": "execute_result"
    }
   ],
   "source": [
    "coursor.execute(\"select name,subject from studentinfo2\")\n",
    "coursor.fetchall()"
   ]
  },
  {
   "cell_type": "code",
   "execution_count": 55,
   "id": "54ccedfc",
   "metadata": {},
   "outputs": [
    {
     "data": {
      "text/plain": [
       "[('rohan',), ('uttam',), ('suchitra',), ('anup',)]"
      ]
     },
     "execution_count": 55,
     "metadata": {},
     "output_type": "execute_result"
    }
   ],
   "source": [
    "## As we can see some records are repeated so we can use distinct \n",
    "\n",
    "coursor.execute(\"select distinct name from studentinfo2\")\n",
    "coursor.fetchall()"
   ]
  },
  {
   "cell_type": "markdown",
   "id": "053c6e6d",
   "metadata": {},
   "source": [
    "#### Deleting a table"
   ]
  },
  {
   "cell_type": "code",
   "execution_count": null,
   "id": "c5f90c56",
   "metadata": {},
   "outputs": [],
   "source": [
    "## dropping a table\n",
    "try:\n",
    "    coursor.execute(\"drop table studentinfo1\")\n",
    "    print(\"Successfully deleted table studentinfo1\")\n",
    "except Exception as e:\n",
    "    print(e)"
   ]
  },
  {
   "cell_type": "code",
   "execution_count": null,
   "id": "42a44469",
   "metadata": {},
   "outputs": [],
   "source": [
    "## dropping the table we created\n",
    "try:\n",
    "    coursor.execute(\"drop table studentinfo2\")\n",
    "    print(\"Successfully deleted table studentinfo2\")\n",
    "except Exception as e:\n",
    "    print(e)"
   ]
  },
  {
   "cell_type": "code",
   "execution_count": null,
   "id": "bf00add7",
   "metadata": {},
   "outputs": [],
   "source": []
  }
 ],
 "metadata": {
  "kernelspec": {
   "display_name": "Python 3 (ipykernel)",
   "language": "python",
   "name": "python3"
  },
  "language_info": {
   "codemirror_mode": {
    "name": "ipython",
    "version": 3
   },
   "file_extension": ".py",
   "mimetype": "text/x-python",
   "name": "python",
   "nbconvert_exporter": "python",
   "pygments_lexer": "ipython3",
   "version": "3.9.7"
  }
 },
 "nbformat": 4,
 "nbformat_minor": 5
}
